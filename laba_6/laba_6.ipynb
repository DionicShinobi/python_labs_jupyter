{
 "cells": [
  {
   "cell_type": "code",
   "execution_count": 4,
   "id": "d1858879-7e8f-4b3b-bd21-15fed4e0d769",
   "metadata": {},
   "outputs": [
    {
     "data": {
      "image/svg+xml": [
       "<svg xmlns=\"http://www.w3.org/2000/svg\" width=\"300\" height=\"200\">\n",
       "  <rect width=\"300\" height=\"66.6\" y=\"0\" fill=\"black\"/>\n",
       "  <rect width=\"300\" height=\"66.6\" y=\"66.6\" fill=\"white\"/>\n",
       "  <rect width=\"300\" height=\"66.6\" y=\"133.2\" fill=\"green\"/>\n",
       "  <polygon points=\"0,0 120,100 0,200\" fill=\"red\"/>\n",
       "  <circle cx=\"50\" cy=\"100\" r=\"3\" fill=\"white\"/>\n",
       "  <path d=\"M 50 92 L 53 97 L 59 97 L 54 100 L 57 106 L 50 103 L 43 106 L 46 100 L 41 97 L 47 97 Z\" fill=\"white\"/>\n",
       "</svg>"
      ],
      "text/plain": [
       "<IPython.core.display.SVG object>"
      ]
     },
     "metadata": {},
     "output_type": "display_data"
    }
   ],
   "source": [
    "from IPython.display import SVG, display\n",
    "\n",
    "# Прапор Йорданії\n",
    "svg_code = \"\"\"\n",
    "<svg width=\"300\" height=\"200\" xmlns=\"http://www.w3.org/2000/svg\">\n",
    "  <rect width=\"300\" height=\"66.6\" y=\"0\" fill=\"black\" />\n",
    "  <rect width=\"300\" height=\"66.6\" y=\"66.6\" fill=\"white\" />\n",
    "  <rect width=\"300\" height=\"66.6\" y=\"133.2\" fill=\"green\" />\n",
    "  <polygon points=\"0,0 120,100 0,200\" fill=\"red\" />\n",
    "  <circle cx=\"50\" cy=\"100\" r=\"3\" fill=\"white\" />\n",
    "  <path d=\"M 50 92 L 53 97 L 59 97 L 54 100 L 57 106 L 50 103 L 43 106 L 46 100 L 41 97 L 47 97 Z\" fill=\"white\" />\n",
    "</svg>\n",
    "\"\"\"\n",
    "\n",
    "display(SVG(svg_code)) "
   ]
  },
  {
   "cell_type": "markdown",
   "id": "54cd8483-3a56-447e-9279-7ace4fd7f41c",
   "metadata": {},
   "source": [
    "<html>\n",
    "<head>\n",
    "    <title>Йорданія</title>\n",
    "    <style>\n",
    "        body {\n",
    "            font-family: Arial, sans-serif;\n",
    "            line-height: 1.6;\n",
    "            margin: 20px;\n",
    "        }\n",
    "        .frame {\n",
    "            border: 2px solid #006400;\n",
    "            padding: 10px;\n",
    "            margin: 10px;\n",
    "        }\n",
    "        .highlight-frame {\n",
    "            border: 5px solid #FF4500; /* Товста помаранчева рамка */\n",
    "            padding: 20px;\n",
    "            margin: 20px 0;\n",
    "            background-color: #FFFACD; /* Світлий жовтий фон */\n",
    "            box-shadow: 0 4px 8px rgba(0, 0, 0, 0.2); /* Тінь для підкреслення */\n",
    "        }\n",
    "        .highlight {\n",
    "            color: #FF4500;\n",
    "            font-weight: bold;\n",
    "        }\n",
    "        table {\n",
    "            border-collapse: collapse;\n",
    "            width: 100%;\n",
    "            margin: 10px 0;\n",
    "        }\n",
    "        table, th, td {\n",
    "            border: 1px solid #000;\n",
    "        }\n",
    "        th, td {\n",
    "            text-align: left;\n",
    "            padding: 8px;\n",
    "        }\n",
    "        img {\n",
    "            max-width: 100%;\n",
    "            height: auto;\n",
    "        }\n",
    "        h1 {\n",
    "            color: #008080;\n",
    "        }\n",
    "    </style>\n",
    "</head>\n",
    "<body>\n",
    "\n",
    "<h1>Йорданія</h1>\n",
    "\n",
    "<div class=\"frame highlight-frame\">\n",
    "    <h2>Основна інформація</h2>\n",
    "    <ul>\n",
    "        <li><span class=\"highlight\">Площа:</span> 89,342 км²</li>\n",
    "        <li><span class=\"highlight\">Населення:</span> ~11 мільйонів осіб (станом на 2023 рік)</li>\n",
    "        <li><span class=\"highlight\">Державний устрій:</span> конституційна монархія</li>\n",
    "    </ul>\n",
    "</div>\n",
    "\n",
    "<h2>Визначні пам'ятки</h2>\n",
    "<div class=\"frame\">\n",
    "    <ul>\n",
    "        <li><span style=\"color: #DC143C;\">Петра</span> — одне з семи нових чудес світу.</li>\n",
    "        <li><span style=\"color: #DC143C;\">Мертве море</span> — найнижча точка на земній поверхні.</li>\n",
    "        <li><span style=\"color: #DC143C;\">Ваді-Рам</span> — пустеля, відома своїм марсіанським ландшафтом.</li>\n",
    "    </ul>\n",
    "    <img src=\"https://romantravel.ua/wp-content/uploads/2016/11/Petra_Iordaniya.jpg\" alt=\"Петра, Йорданія\">\n",
    "</div>\n",
    "\n",
    "<h2>Видатні постаті</h2>\n",
    "<div class=\"frame\">\n",
    "    <ol>\n",
    "        <li><span style=\"color: #2E8B57;\">Король Абдулла II</span> — нинішній правитель Йорданії.</li>\n",
    "        <li><span style=\"color: #2E8B57;\">Королева Ранія</span> — відома своїми благодійними ініціативами.</li>\n",
    "    </ol>\n",
    "</div>\n",
    "\n",
    "<h2>Таблиця ключових фактів</h2>\n",
    "<div class=\"frame\">\n",
    "    <table>\n",
    "        <tr>\n",
    "            <th>Факт</th>\n",
    "            <th>Інформація</th>\n",
    "        </tr>\n",
    "        <tr>\n",
    "            <td>Столиця</td>\n",
    "            <td>Амман</td>\n",
    "        </tr>\n",
    "        <tr>\n",
    "            <td>Офіційна мова</td>\n",
    "            <td>Арабська</td>\n",
    "        </tr>\n",
    "        <tr>\n",
    "            <td>Валюта</td>\n",
    "            <td>Йорданський динар (JOD)</td>\n",
    "        </tr>\n",
    "    </table>\n",
    "</div>\n",
    "\n",
    "<h2>Культура та природа</h2>\n",
    "<div class=\"frame\">\n",
    "    <ul>\n",
    "        <li>Йорданська кухня:\n",
    "            <ul>\n",
    "                <li><em>Мансав</em> — традиційна страва з бараниною та рисом.</li>\n",
    "                <li><em>Фалафель</em> та <em>хумус</em> — популярні страви Близького Сходу.</li>\n",
    "            </ul>\n",
    "        </li>\n",
    "        <li>Природа:\n",
    "            <ul>\n",
    "                <li>Різноманіття пустельних і гірських ландшафтів.</li>\n",
    "                <li>Унікальна флора та фауна в заповідниках.</li>\n",
    "            </ul>\n",
    "        </li>\n",
    "    </ul>\n",
    "</div>\n",
    "\n",
    "<h2>Корисні ресурси</h2>\n",
    "<p>Детальніше про Йорданію читайте на <a href=\"https://uk.wikipedia.org/wiki/Йорданія\" target=\"_blank\">Вікіпедії</a>.</p>\n",
    "\n",
    "</body>\n",
    "</html>\n"
   ]
  },
  {
   "cell_type": "code",
   "execution_count": 5,
   "id": "991648be-2eaa-4d09-8cbe-30373bb4116a",
   "metadata": {},
   "outputs": [
    {
     "name": "stdin",
     "output_type": "stream",
     "text": [
      "Введіть число a (або -0 для завершення):  10\n",
      "Введіть число b (або -0 для завершення):  20\n"
     ]
    },
    {
     "name": "stdout",
     "output_type": "stream",
     "text": [
      "Прості числа на відрізку [10, 20]: [11, 13, 17, 19]\n"
     ]
    },
    {
     "name": "stdin",
     "output_type": "stream",
     "text": [
      "Введіть число a (або -0 для завершення):  4\n",
      "Введіть число b (або -0 для завершення):  4\n"
     ]
    },
    {
     "name": "stdout",
     "output_type": "stream",
     "text": [
      "На відрізку [4, 4] немає простих чисел.\n"
     ]
    },
    {
     "name": "stdin",
     "output_type": "stream",
     "text": [
      "Введіть число a (або -0 для завершення):  -0\n"
     ]
    },
    {
     "name": "stdout",
     "output_type": "stream",
     "text": [
      "Програму завершено.\n"
     ]
    }
   ],
   "source": [
    "def is_prime(n):\n",
    "    if n <= 1:\n",
    "        return False\n",
    "    for i in range(2, int(n ** 0.5) + 1):\n",
    "        if n % i == 0:\n",
    "            return False\n",
    "    return True\n",
    "\n",
    "def find_primes_in_range(a, b):\n",
    "    if a > b:\n",
    "        return [] \n",
    "    primes = []\n",
    "    for num in range(a, b + 1):\n",
    "        if is_prime(num):\n",
    "            primes.append(num)\n",
    "    return primes\n",
    "\n",
    "while True:\n",
    "    a = int(input(\"Введіть число a (або -0 для завершення): \"))\n",
    "    if a == -0:\n",
    "        print(\"Програму завершено.\")\n",
    "        break\n",
    "    b = int(input(\"Введіть число b (або -0 для завершення): \"))\n",
    "    if b == -0:\n",
    "        print(\"Програму завершено.\")\n",
    "        break\n",
    "        \n",
    "    if a < 1 or b < 1:\n",
    "        print(\"Числа a і b повинні бути більшими або рівними 1. Спробуйте знову.\")\n",
    "        continue\n",
    "\n",
    "    # Знаходження простих чисел і виведення результату\n",
    "    primes = find_primes_in_range(a, b)\n",
    "    if primes:\n",
    "        print(f\"Прості числа на відрізку [{a}, {b}]: {primes}\")\n",
    "    else:\n",
    "        print(f\"На відрізку [{a}, {b}] немає простих чисел.\")\n"
   ]
  },
  {
   "cell_type": "code",
   "execution_count": null,
   "id": "fe64934d-22b7-4ac1-8eab-52968fcf5d6e",
   "metadata": {},
   "outputs": [],
   "source": []
  },
  {
   "cell_type": "code",
   "execution_count": null,
   "id": "686e36ec-df13-4747-81cb-16fe1d5353f2",
   "metadata": {},
   "outputs": [],
   "source": []
  }
 ],
 "metadata": {
  "kernelspec": {
   "display_name": "Python 3 (ipykernel)",
   "language": "python",
   "name": "python3"
  },
  "language_info": {
   "codemirror_mode": {
    "name": "ipython",
    "version": 3
   },
   "file_extension": ".py",
   "mimetype": "text/x-python",
   "name": "python",
   "nbconvert_exporter": "python",
   "pygments_lexer": "ipython3",
   "version": "3.12.4"
  }
 },
 "nbformat": 4,
 "nbformat_minor": 5
}
